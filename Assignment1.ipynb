{
 "cells": [
  {
   "cell_type": "code",
   "execution_count": null,
   "id": "8f92dd76-33e1-4adc-9cab-b7c4cdc4391a",
   "metadata": {},
   "outputs": [],
   "source": []
  },
  {
   "cell_type": "markdown",
   "id": "402954d1-fd4e-4767-ae24-32d46e74e57a",
   "metadata": {},
   "source": [
    " 4. Create a list of your favorite movies and print it. Then, append a new movie to the list and\n",
    "print the updated list."
   ]
  },
  {
   "cell_type": "code",
   "execution_count": 3,
   "id": "75fe00bc-03f1-4ae6-a8a1-501393a20b5c",
   "metadata": {},
   "outputs": [
    {
     "data": {
      "text/plain": [
       "['Interstellar', 'PK', '3Idiots']"
      ]
     },
     "execution_count": 3,
     "metadata": {},
     "output_type": "execute_result"
    }
   ],
   "source": [
    "List_movies = ['Interstellar','PK', '3Idiots']\n",
    "List_movies"
   ]
  },
  {
   "cell_type": "code",
   "execution_count": 4,
   "id": "a150a31b-b1c1-4fd4-a1f3-32b8adac5d78",
   "metadata": {},
   "outputs": [
    {
     "data": {
      "text/plain": [
       "['Interstellar', 'PK', '3Idiots', 'Corporate']"
      ]
     },
     "execution_count": 4,
     "metadata": {},
     "output_type": "execute_result"
    }
   ],
   "source": [
    "List_movies.append('Corporate')\n",
    "List_movies"
   ]
  },
  {
   "cell_type": "markdown",
   "id": "69a5e69a-907b-4ba2-8c5e-9dd025188ded",
   "metadata": {},
   "source": [
    " 5. Create a list of integers from 1 to 10 and print it. Calculate the sum of all the numbers in the list and print the result.\n"
   ]
  },
  {
   "cell_type": "code",
   "execution_count": 12,
   "id": "48440668-4a47-4293-b6c8-b31effa8bee2",
   "metadata": {},
   "outputs": [
    {
     "data": {
      "text/plain": [
       "[1, 2, 3, 4, 5, 6, 7, 8, 9, 10]"
      ]
     },
     "execution_count": 12,
     "metadata": {},
     "output_type": "execute_result"
    }
   ],
   "source": [
    "List_integer = [1,2,3,4,5,6,7,8,9,10]\n",
    "List_integer"
   ]
  },
  {
   "cell_type": "code",
   "execution_count": 14,
   "id": "8c4faba8-300a-4e6d-ab18-ad2a51985396",
   "metadata": {},
   "outputs": [
    {
     "data": {
      "text/plain": [
       "55"
      ]
     },
     "execution_count": 14,
     "metadata": {},
     "output_type": "execute_result"
    }
   ],
   "source": [
    "sum_of_List_Integer = sum(List_integer)\n",
    "sum_of_List_Integer"
   ]
  },
  {
   "cell_type": "markdown",
   "id": "b6385b2b-872f-4c0d-bd74-962ae3d9e179",
   "metadata": {},
   "source": [
    " 6. Create a list of mixed data types including strings, integers, and floats and print it. Remove the first element from the list and print the modified list.\n"
   ]
  },
  {
   "cell_type": "code",
   "execution_count": 16,
   "id": "343f22e2-ef6a-40aa-b3bf-63a4c01f5015",
   "metadata": {},
   "outputs": [
    {
     "data": {
      "text/plain": [
       "['Python', 7, 3.12]"
      ]
     },
     "execution_count": 16,
     "metadata": {},
     "output_type": "execute_result"
    }
   ],
   "source": [
    "List_mixeddata =[\"Python\",7,3.12]\n",
    "List_mixeddata"
   ]
  },
  {
   "cell_type": "code",
   "execution_count": 17,
   "id": "79b585cc-e60e-4a7d-b626-81ae4e37be40",
   "metadata": {},
   "outputs": [
    {
     "data": {
      "text/plain": [
       "'Python'"
      ]
     },
     "execution_count": 17,
     "metadata": {},
     "output_type": "execute_result"
    }
   ],
   "source": [
    "modified = List_mixeddata.pop(0)\n",
    "modified\n"
   ]
  },
  {
   "cell_type": "markdown",
   "id": "6c4b25ac-e1b2-4fe9-be62-27790bac5b6e",
   "metadata": {},
   "source": [
    " 7. Create a tuple containing the names of the days of the week and print it. Access and print the name of the third day.\r",
    "."
   ]
  },
  {
   "cell_type": "code",
   "execution_count": 18,
   "id": "dfde3a28-eed2-4d53-a5fe-3c27a19a70c7",
   "metadata": {},
   "outputs": [
    {
     "data": {
      "text/plain": [
       "['Sunday', 'Monday', 'Tuesday', 'Wednesday', 'Thursday', 'Friday', 'Saturday']"
      ]
     },
     "execution_count": 18,
     "metadata": {},
     "output_type": "execute_result"
    }
   ],
   "source": [
    "week = [\"Sunday\" , \"Monday\" , \"Tuesday\", \"Wednesday\" , \"Thursday\" ,\"Friday\", \"Saturday\"]\n",
    "week"
   ]
  },
  {
   "cell_type": "code",
   "execution_count": 20,
   "id": "ec8b9686-9309-44a9-86d2-a95010853243",
   "metadata": {},
   "outputs": [
    {
     "data": {
      "text/plain": [
       "'Tuesday'"
      ]
     },
     "execution_count": 20,
     "metadata": {},
     "output_type": "execute_result"
    }
   ],
   "source": [
    "Thirdday = week[2]\n",
    "Thirdday"
   ]
  },
  {
   "cell_type": "markdown",
   "id": "1d4ce51b-9f84-45be-b4ac-ac0ca2d5efe8",
   "metadata": {},
   "source": [
    " 8. Create a tuple of your favorite colors and print it. Check if a certain color is present in the tuple and print the result.\r",
    "."
   ]
  },
  {
   "cell_type": "code",
   "execution_count": 22,
   "id": "4f5754e1-88d5-40dd-9fd7-06a67d3bba18",
   "metadata": {},
   "outputs": [
    {
     "data": {
      "text/plain": [
       "['green', 'white', 'orange', 'red']"
      ]
     },
     "execution_count": 22,
     "metadata": {},
     "output_type": "execute_result"
    }
   ],
   "source": [
    "Favourite_color = [\"green\", \"white\", \"orange\", \"red\"]\n",
    "Favourite_color"
   ]
  },
  {
   "cell_type": "code",
   "execution_count": 25,
   "id": "7e69bfe4-6d22-4bc1-affc-e0e6863ceb77",
   "metadata": {},
   "outputs": [
    {
     "data": {
      "text/plain": [
       "False"
      ]
     },
     "execution_count": 25,
     "metadata": {},
     "output_type": "execute_result"
    }
   ],
   "source": [
    "check= \"blue\"\n",
    "present = check in Favourite_color\n",
    "present"
   ]
  },
  {
   "cell_type": "code",
   "execution_count": 26,
   "id": "9bbd8581-e7c6-495f-b481-dfcaeb4258d8",
   "metadata": {},
   "outputs": [
    {
     "data": {
      "text/plain": [
       "True"
      ]
     },
     "execution_count": 26,
     "metadata": {},
     "output_type": "execute_result"
    }
   ],
   "source": [
    "check = \"red\"\n",
    "present = check in Favourite_color\n",
    "present"
   ]
  },
  {
   "cell_type": "markdown",
   "id": "d99009fe-93a2-409c-aa82-352f5f752a6b",
   "metadata": {},
   "source": [
    " 9. Create a dictionary representing the information of a book with keys \"title\", \"author\", and \"year\" and print it. Update the year of the book and print the updated dictionary.\r",
    "."
   ]
  },
  {
   "cell_type": "code",
   "execution_count": 27,
   "id": "89838856-20ba-42cd-83ac-dbf800f98c64",
   "metadata": {},
   "outputs": [
    {
     "data": {
      "text/plain": [
       "{'name': 'A Thousand Splendid Suns ',\n",
       " 'author': 'Khaled Hosseini',\n",
       " 'year': '2007'}"
      ]
     },
     "execution_count": 27,
     "metadata": {},
     "output_type": "execute_result"
    }
   ],
   "source": [
    " book = {'name' : 'A Thousand Splendid Suns ' , 'author' : 'Khaled Hosseini' ,'year': '2007' }\n",
    "book"
   ]
  },
  {
   "cell_type": "code",
   "execution_count": 36,
   "id": "5998219c-d134-459d-bd50-9dd92b454be7",
   "metadata": {},
   "outputs": [
    {
     "data": {
      "text/plain": [
       "{'name': 'A Thousand Splendid Suns ',\n",
       " 'author': 'Khaled Hosseini',\n",
       " 'year': '2013',\n",
       " 'price': '599'}"
      ]
     },
     "execution_count": 36,
     "metadata": {},
     "output_type": "execute_result"
    }
   ],
   "source": [
    "book['year'] ='2013'\n",
    "book"
   ]
  },
  {
   "cell_type": "markdown",
   "id": "301b3275-a7d5-415f-9edd-86f3bff9cf8c",
   "metadata": {},
   "source": [
    " 10. Create a dictionary containing the names of fruits as keys and their corresponding colors as values and print it. Add a new fruit-color pair to the dictionary and print the updated dictionary.\n",
    "\n",
    "\n",
    "\n",
    "\r",
    "y."
   ]
  },
  {
   "cell_type": "code",
   "execution_count": 34,
   "id": "d1de2be8-3261-4250-9a1b-d9f032df818a",
   "metadata": {},
   "outputs": [
    {
     "data": {
      "text/plain": [
       "{'apple': 'red', 'mango': 'yellow', 'grapes': 'green'}"
      ]
     },
     "execution_count": 34,
     "metadata": {},
     "output_type": "execute_result"
    }
   ],
   "source": [
    "fruits = { 'apple': 'red', 'mango':'yellow', 'grapes':'green'}\n",
    "fruits"
   ]
  },
  {
   "cell_type": "code",
   "execution_count": 35,
   "id": "8baf652d-a890-4c9e-a251-b338a16cbbf8",
   "metadata": {},
   "outputs": [
    {
     "data": {
      "text/plain": [
       "{'apple': 'red', 'mango': 'yellow', 'grapes': 'green', 'orange': 'orange'}"
      ]
     },
     "execution_count": 35,
     "metadata": {},
     "output_type": "execute_result"
    }
   ],
   "source": [
    "fruits['orange'] = 'orange'\n",
    "fruits"
   ]
  },
  {
   "cell_type": "code",
   "execution_count": 43,
   "id": "b1da0860-86ee-4455-af21-e00d016c278c",
   "metadata": {},
   "outputs": [
    {
     "name": "stdout",
     "output_type": "stream",
     "text": [
      "Sorry, key not found\n"
     ]
    }
   ],
   "source": [
    "\n",
    "try:\n",
    "    pineapple = fruits['pineapple']\n",
    "except KeyError:\n",
    "    print('Sorry, key not found')\n"
   ]
  },
  {
   "cell_type": "code",
   "execution_count": 44,
   "id": "0b884b71-2473-45ad-8bad-34463138f4b8",
   "metadata": {},
   "outputs": [
    {
     "data": {
      "text/plain": [
       "{'apple': 'red',\n",
       " 'mango': 'yellow',\n",
       " 'grapes': 'green',\n",
       " 'orange': 'orange',\n",
       " 'pineapple': 'yellow'}"
      ]
     },
     "execution_count": 44,
     "metadata": {},
     "output_type": "execute_result"
    }
   ],
   "source": [
    "fruits['pineapple'] = 'yellow'\n",
    "fruits"
   ]
  },
  {
   "cell_type": "markdown",
   "id": "592e9903-b0e0-4f5b-a763-41d5b96a55c1",
   "metadata": {},
   "source": [
    " 11. Create a dictionary representing the population of different cities with keys as city names and values as population numbers and print it. Remove a city from the dictionary and print the modified dictionary.\r",
    "y."
   ]
  },
  {
   "cell_type": "code",
   "execution_count": 45,
   "id": "722a9d43-61b2-4ab1-8d3b-bfca733a4035",
   "metadata": {},
   "outputs": [
    {
     "data": {
      "text/plain": [
       "{'ktm': '847832', 'biartnagar': '46743', 'pokhara': '36432'}"
      ]
     },
     "execution_count": 45,
     "metadata": {},
     "output_type": "execute_result"
    }
   ],
   "source": [
    "cities = {'ktm':'847832' , 'biartnagar':'46743', 'pokhara':'36432'}\n",
    "cities"
   ]
  },
  {
   "cell_type": "code",
   "execution_count": 52,
   "id": "948e2721-0f03-4d8d-a49e-b1e8351180a8",
   "metadata": {},
   "outputs": [
    {
     "data": {
      "text/plain": [
       "{'ktm': '847832', 'biartnagar': '46743'}"
      ]
     },
     "execution_count": 52,
     "metadata": {},
     "output_type": "execute_result"
    }
   ],
   "source": [
    "remove = 'pokhara'\n",
    "if remove in cities:\n",
    "   del cities[remove]\n",
    "cities"
   ]
  },
  {
   "cell_type": "code",
   "execution_count": null,
   "id": "543f9011-6350-4fd4-aa7d-2c966905a79c",
   "metadata": {},
   "outputs": [],
   "source": []
  }
 ],
 "metadata": {
  "kernelspec": {
   "display_name": "Python 3 (ipykernel)",
   "language": "python",
   "name": "python3"
  },
  "language_info": {
   "codemirror_mode": {
    "name": "ipython",
    "version": 3
   },
   "file_extension": ".py",
   "mimetype": "text/x-python",
   "name": "python",
   "nbconvert_exporter": "python",
   "pygments_lexer": "ipython3",
   "version": "3.11.7"
  }
 },
 "nbformat": 4,
 "nbformat_minor": 5
}
